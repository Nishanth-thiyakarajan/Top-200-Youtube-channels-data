{
  "nbformat": 4,
  "nbformat_minor": 0,
  "metadata": {
    "colab": {
      "name": "Project_2.ipynb",
      "provenance": [],
      "authorship_tag": "ABX9TyNj+GK1UXn1ab6cva8yG4q0",
      "include_colab_link": true
    },
    "kernelspec": {
      "name": "python3",
      "display_name": "Python 3"
    },
    "language_info": {
      "name": "python"
    }
  },
  "cells": [
    {
      "cell_type": "markdown",
      "metadata": {
        "id": "view-in-github",
        "colab_type": "text"
      },
      "source": [
        "<a href=\"https://colab.research.google.com/github/Nishanth-thiyakarajan/Top-200-Youtube-channels-data/blob/main/Python%20Code.ipynb\" target=\"_parent\"><img src=\"https://colab.research.google.com/assets/colab-badge.svg\" alt=\"Open In Colab\"/></a>"
      ]
    },
    {
      "cell_type": "markdown",
      "source": [
        "Importing Libraries"
      ],
      "metadata": {
        "id": "DpCLG0mlL-eB"
      }
    },
    {
      "cell_type": "code",
      "execution_count": null,
      "metadata": {
        "id": "uIHF5zr3Ja9j"
      },
      "outputs": [],
      "source": [
        "import pandas as pd\n",
        "import numpy as np"
      ]
    },
    {
      "cell_type": "markdown",
      "source": [
        "Reading The Dataset"
      ],
      "metadata": {
        "id": "NEL_TlwdMIc5"
      }
    },
    {
      "cell_type": "code",
      "source": [
        "from google.colab import files\n",
        "uploadFile = files.upload()"
      ],
      "metadata": {
        "colab": {
          "resources": {
            "http://localhost:8080/nbextensions/google.colab/files.js": {
              "data": "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",
              "ok": true,
              "headers": [
                [
                  "content-type",
                  "application/javascript"
                ]
              ],
              "status": 200,
              "status_text": ""
            }
          },
          "base_uri": "https://localhost:8080/",
          "height": 39
        },
        "id": "UFiWKFHyMK8A",
        "outputId": "c0570e70-65e0-4498-d950-dd1c840d2501"
      },
      "execution_count": null,
      "outputs": [
        {
          "output_type": "display_data",
          "data": {
            "text/plain": [
              "<IPython.core.display.HTML object>"
            ],
            "text/html": [
              "\n",
              "     <input type=\"file\" id=\"files-199b3d15-a720-4fae-a3be-4a999bf75441\" name=\"files[]\" multiple disabled\n",
              "        style=\"border:none\" />\n",
              "     <output id=\"result-199b3d15-a720-4fae-a3be-4a999bf75441\">\n",
              "      Upload widget is only available when the cell has been executed in the\n",
              "      current browser session. Please rerun this cell to enable.\n",
              "      </output>\n",
              "      <script src=\"/nbextensions/google.colab/files.js\"></script> "
            ]
          },
          "metadata": {}
        }
      ]
    },
    {
      "cell_type": "code",
      "source": [
        "data = pd.read_csv('Youtube.csv')"
      ],
      "metadata": {
        "id": "zNBiRhf277L5"
      },
      "execution_count": null,
      "outputs": []
    },
    {
      "cell_type": "markdown",
      "source": [
        "Checking the Dataset"
      ],
      "metadata": {
        "id": "meNn4U7iQG_4"
      }
    },
    {
      "cell_type": "code",
      "source": [
        "data.info()"
      ],
      "metadata": {
        "colab": {
          "base_uri": "https://localhost:8080/"
        },
        "id": "AlRjTMJdPYn3",
        "outputId": "bdaac59c-241d-4d5d-8708-a13850c3a723"
      },
      "execution_count": null,
      "outputs": [
        {
          "output_type": "stream",
          "name": "stdout",
          "text": [
            "<class 'pandas.core.frame.DataFrame'>\n",
            "RangeIndex: 857 entries, 0 to 856\n",
            "Data columns (total 22 columns):\n",
            " #   Column                  Non-Null Count  Dtype  \n",
            "---  ------                  --------------  -----  \n",
            " 0   Country                 707 non-null    object \n",
            " 1   Channel Name            857 non-null    object \n",
            " 2   Category                736 non-null    object \n",
            " 3   Main Video Category     855 non-null    object \n",
            " 4   username                857 non-null    object \n",
            " 5   followers               857 non-null    int64  \n",
            " 6   Main topic              855 non-null    object \n",
            " 7   More topics             855 non-null    object \n",
            " 8   Likes                   857 non-null    float64\n",
            " 9   Boost Index             857 non-null    int64  \n",
            " 10  Engagement Rate         855 non-null    float64\n",
            " 11  Engagement Rate 60days  857 non-null    float64\n",
            " 12  Views                   857 non-null    int64  \n",
            " 13  Views Avg.              855 non-null    float64\n",
            " 14  Avg. 1 Day              494 non-null    float64\n",
            " 15  Avg. 3 Day              652 non-null    float64\n",
            " 16  Avg. 7 Day              741 non-null    float64\n",
            " 17  Avg. 14 Day             779 non-null    float64\n",
            " 18  Avg. 30 day             815 non-null    float64\n",
            " 19  Avg. 60 day             857 non-null    float64\n",
            " 20  Comments Avg            855 non-null    float64\n",
            " 21  Youtube Link            857 non-null    object \n",
            "dtypes: float64(11), int64(3), object(8)\n",
            "memory usage: 147.4+ KB\n"
          ]
        }
      ]
    },
    {
      "cell_type": "markdown",
      "source": [
        "To find Duplicates"
      ],
      "metadata": {
        "id": "aeTgz2b_PzHp"
      }
    },
    {
      "cell_type": "code",
      "source": [
        "data.duplicated().sum()"
      ],
      "metadata": {
        "colab": {
          "base_uri": "https://localhost:8080/"
        },
        "id": "F44_WwpNQ9eI",
        "outputId": "095f0234-b9a4-47a3-f160-91d50f22dcac"
      },
      "execution_count": null,
      "outputs": [
        {
          "output_type": "execute_result",
          "data": {
            "text/plain": [
              "657"
            ]
          },
          "metadata": {},
          "execution_count": 93
        }
      ]
    },
    {
      "cell_type": "markdown",
      "source": [
        "To Remove Duplicates"
      ],
      "metadata": {
        "id": "CEXriWsHSC9w"
      }
    },
    {
      "cell_type": "code",
      "source": [
        "data.drop_duplicates(subset =\"Channel Name\", keep = 'first', inplace = True)"
      ],
      "metadata": {
        "id": "KAvJdh3rSFCB"
      },
      "execution_count": null,
      "outputs": []
    },
    {
      "cell_type": "markdown",
      "source": [
        "Checking After Removing the Duplicates"
      ],
      "metadata": {
        "id": "ezD9v7k9X-w_"
      }
    },
    {
      "cell_type": "code",
      "source": [
        "data.duplicated().sum()"
      ],
      "metadata": {
        "colab": {
          "base_uri": "https://localhost:8080/"
        },
        "outputId": "e609b755-9956-4bcd-8c7a-93cc2bac650c",
        "id": "5hT6M7OwTPiI"
      },
      "execution_count": null,
      "outputs": [
        {
          "output_type": "execute_result",
          "data": {
            "text/plain": [
              "0"
            ]
          },
          "metadata": {},
          "execution_count": 95
        }
      ]
    },
    {
      "cell_type": "markdown",
      "source": [
        "Data Cleaning(Removing the Unwanted data)"
      ],
      "metadata": {
        "id": "VTTHglZzYLvv"
      }
    },
    {
      "cell_type": "code",
      "source": [
        "data.drop(columns =['Main Video Category','Main topic','More topics','username','Comments Avg','Engagement Rate 60days','Views Avg.','Avg. 1 Day','Avg. 3 Day','Avg. 7 Day','Avg. 14 Day','Avg. 30 day','Avg. 60 day','Comments Avg'],inplace=True)\n",
        "data.head()"
      ],
      "metadata": {
        "colab": {
          "base_uri": "https://localhost:8080/",
          "height": 206
        },
        "id": "YFuMjXT-UrWl",
        "outputId": "d9e2aa30-e6e1-428b-e99a-7f2bb1a4aa49"
      },
      "execution_count": null,
      "outputs": [
        {
          "output_type": "execute_result",
          "data": {
            "text/plain": [
              "  Country               Channel Name       Category  followers         Likes  \\\n",
              "0      IN                   T-Series  Gaming & Apps  220000000  1.602680e+09   \n",
              "1      US  ABCkidTV - Nursery Rhymes  Gaming & Apps  138000000  2.209901e+08   \n",
              "2      IN                  SET India  Gaming & Apps  137000000  1.748752e+08   \n",
              "3      US                  PewDiePie  Gaming & Apps  111000000  2.191406e+09   \n",
              "4      US                    MrBeast  Gaming & Apps   98100000  1.731833e+09   \n",
              "\n",
              "   Boost Index  Engagement Rate         Views              Youtube Link  \n",
              "0           83         0.033463  195660744416  UCq-Fj5jknLsUf-MWSy4_brA  \n",
              "1           63         0.641716  133025325473  UCbCmjCuTUZos6Inko4u57UQ  \n",
              "2           79         0.001206  121741739317  UCpEhnqL0y41EpW2TvWAHD7Q  \n",
              "3           88         0.063426   28424113942  UC-lHJZR3Gqxm24_Vd_AJ5Yw  \n",
              "4           60         0.729210   16242634269  UCX6OQ3DkcsbYNE6H8uQQuVA  "
            ],
            "text/html": [
              "\n",
              "  <div id=\"df-aae98fb9-2187-4fbd-8f4f-d70090673450\">\n",
              "    <div class=\"colab-df-container\">\n",
              "      <div>\n",
              "<style scoped>\n",
              "    .dataframe tbody tr th:only-of-type {\n",
              "        vertical-align: middle;\n",
              "    }\n",
              "\n",
              "    .dataframe tbody tr th {\n",
              "        vertical-align: top;\n",
              "    }\n",
              "\n",
              "    .dataframe thead th {\n",
              "        text-align: right;\n",
              "    }\n",
              "</style>\n",
              "<table border=\"1\" class=\"dataframe\">\n",
              "  <thead>\n",
              "    <tr style=\"text-align: right;\">\n",
              "      <th></th>\n",
              "      <th>Country</th>\n",
              "      <th>Channel Name</th>\n",
              "      <th>Category</th>\n",
              "      <th>followers</th>\n",
              "      <th>Likes</th>\n",
              "      <th>Boost Index</th>\n",
              "      <th>Engagement Rate</th>\n",
              "      <th>Views</th>\n",
              "      <th>Youtube Link</th>\n",
              "    </tr>\n",
              "  </thead>\n",
              "  <tbody>\n",
              "    <tr>\n",
              "      <th>0</th>\n",
              "      <td>IN</td>\n",
              "      <td>T-Series</td>\n",
              "      <td>Gaming &amp; Apps</td>\n",
              "      <td>220000000</td>\n",
              "      <td>1.602680e+09</td>\n",
              "      <td>83</td>\n",
              "      <td>0.033463</td>\n",
              "      <td>195660744416</td>\n",
              "      <td>UCq-Fj5jknLsUf-MWSy4_brA</td>\n",
              "    </tr>\n",
              "    <tr>\n",
              "      <th>1</th>\n",
              "      <td>US</td>\n",
              "      <td>ABCkidTV - Nursery Rhymes</td>\n",
              "      <td>Gaming &amp; Apps</td>\n",
              "      <td>138000000</td>\n",
              "      <td>2.209901e+08</td>\n",
              "      <td>63</td>\n",
              "      <td>0.641716</td>\n",
              "      <td>133025325473</td>\n",
              "      <td>UCbCmjCuTUZos6Inko4u57UQ</td>\n",
              "    </tr>\n",
              "    <tr>\n",
              "      <th>2</th>\n",
              "      <td>IN</td>\n",
              "      <td>SET India</td>\n",
              "      <td>Gaming &amp; Apps</td>\n",
              "      <td>137000000</td>\n",
              "      <td>1.748752e+08</td>\n",
              "      <td>79</td>\n",
              "      <td>0.001206</td>\n",
              "      <td>121741739317</td>\n",
              "      <td>UCpEhnqL0y41EpW2TvWAHD7Q</td>\n",
              "    </tr>\n",
              "    <tr>\n",
              "      <th>3</th>\n",
              "      <td>US</td>\n",
              "      <td>PewDiePie</td>\n",
              "      <td>Gaming &amp; Apps</td>\n",
              "      <td>111000000</td>\n",
              "      <td>2.191406e+09</td>\n",
              "      <td>88</td>\n",
              "      <td>0.063426</td>\n",
              "      <td>28424113942</td>\n",
              "      <td>UC-lHJZR3Gqxm24_Vd_AJ5Yw</td>\n",
              "    </tr>\n",
              "    <tr>\n",
              "      <th>4</th>\n",
              "      <td>US</td>\n",
              "      <td>MrBeast</td>\n",
              "      <td>Gaming &amp; Apps</td>\n",
              "      <td>98100000</td>\n",
              "      <td>1.731833e+09</td>\n",
              "      <td>60</td>\n",
              "      <td>0.729210</td>\n",
              "      <td>16242634269</td>\n",
              "      <td>UCX6OQ3DkcsbYNE6H8uQQuVA</td>\n",
              "    </tr>\n",
              "  </tbody>\n",
              "</table>\n",
              "</div>\n",
              "      <button class=\"colab-df-convert\" onclick=\"convertToInteractive('df-aae98fb9-2187-4fbd-8f4f-d70090673450')\"\n",
              "              title=\"Convert this dataframe to an interactive table.\"\n",
              "              style=\"display:none;\">\n",
              "        \n",
              "  <svg xmlns=\"http://www.w3.org/2000/svg\" height=\"24px\"viewBox=\"0 0 24 24\"\n",
              "       width=\"24px\">\n",
              "    <path d=\"M0 0h24v24H0V0z\" fill=\"none\"/>\n",
              "    <path d=\"M18.56 5.44l.94 2.06.94-2.06 2.06-.94-2.06-.94-.94-2.06-.94 2.06-2.06.94zm-11 1L8.5 8.5l.94-2.06 2.06-.94-2.06-.94L8.5 2.5l-.94 2.06-2.06.94zm10 10l.94 2.06.94-2.06 2.06-.94-2.06-.94-.94-2.06-.94 2.06-2.06.94z\"/><path d=\"M17.41 7.96l-1.37-1.37c-.4-.4-.92-.59-1.43-.59-.52 0-1.04.2-1.43.59L10.3 9.45l-7.72 7.72c-.78.78-.78 2.05 0 2.83L4 21.41c.39.39.9.59 1.41.59.51 0 1.02-.2 1.41-.59l7.78-7.78 2.81-2.81c.8-.78.8-2.07 0-2.86zM5.41 20L4 18.59l7.72-7.72 1.47 1.35L5.41 20z\"/>\n",
              "  </svg>\n",
              "      </button>\n",
              "      \n",
              "  <style>\n",
              "    .colab-df-container {\n",
              "      display:flex;\n",
              "      flex-wrap:wrap;\n",
              "      gap: 12px;\n",
              "    }\n",
              "\n",
              "    .colab-df-convert {\n",
              "      background-color: #E8F0FE;\n",
              "      border: none;\n",
              "      border-radius: 50%;\n",
              "      cursor: pointer;\n",
              "      display: none;\n",
              "      fill: #1967D2;\n",
              "      height: 32px;\n",
              "      padding: 0 0 0 0;\n",
              "      width: 32px;\n",
              "    }\n",
              "\n",
              "    .colab-df-convert:hover {\n",
              "      background-color: #E2EBFA;\n",
              "      box-shadow: 0px 1px 2px rgba(60, 64, 67, 0.3), 0px 1px 3px 1px rgba(60, 64, 67, 0.15);\n",
              "      fill: #174EA6;\n",
              "    }\n",
              "\n",
              "    [theme=dark] .colab-df-convert {\n",
              "      background-color: #3B4455;\n",
              "      fill: #D2E3FC;\n",
              "    }\n",
              "\n",
              "    [theme=dark] .colab-df-convert:hover {\n",
              "      background-color: #434B5C;\n",
              "      box-shadow: 0px 1px 3px 1px rgba(0, 0, 0, 0.15);\n",
              "      filter: drop-shadow(0px 1px 2px rgba(0, 0, 0, 0.3));\n",
              "      fill: #FFFFFF;\n",
              "    }\n",
              "  </style>\n",
              "\n",
              "      <script>\n",
              "        const buttonEl =\n",
              "          document.querySelector('#df-aae98fb9-2187-4fbd-8f4f-d70090673450 button.colab-df-convert');\n",
              "        buttonEl.style.display =\n",
              "          google.colab.kernel.accessAllowed ? 'block' : 'none';\n",
              "\n",
              "        async function convertToInteractive(key) {\n",
              "          const element = document.querySelector('#df-aae98fb9-2187-4fbd-8f4f-d70090673450');\n",
              "          const dataTable =\n",
              "            await google.colab.kernel.invokeFunction('convertToInteractive',\n",
              "                                                     [key], {});\n",
              "          if (!dataTable) return;\n",
              "\n",
              "          const docLinkHtml = 'Like what you see? Visit the ' +\n",
              "            '<a target=\"_blank\" href=https://colab.research.google.com/notebooks/data_table.ipynb>data table notebook</a>'\n",
              "            + ' to learn more about interactive tables.';\n",
              "          element.innerHTML = '';\n",
              "          dataTable['output_type'] = 'display_data';\n",
              "          await google.colab.output.renderOutput(dataTable, element);\n",
              "          const docLink = document.createElement('div');\n",
              "          docLink.innerHTML = docLinkHtml;\n",
              "          element.appendChild(docLink);\n",
              "        }\n",
              "      </script>\n",
              "    </div>\n",
              "  </div>\n",
              "  "
            ]
          },
          "metadata": {},
          "execution_count": 98
        }
      ]
    },
    {
      "cell_type": "markdown",
      "source": [
        "Changing the exponential values to Numerical values."
      ],
      "metadata": {
        "id": "nL1rQgVtYuqP"
      }
    },
    {
      "cell_type": "code",
      "source": [
        "data['Likes']=data['Likes'].astype(int)\n",
        "data['Engagement Rate']=data['Engagement Rate']*100\n",
        "data['Engagement Rate'] = data['Engagement Rate'].fillna(0).astype(int)\n",
        "data"
      ],
      "metadata": {
        "colab": {
          "base_uri": "https://localhost:8080/",
          "height": 424
        },
        "id": "0zh6rmqUY2z0",
        "outputId": "a69b4188-7bdf-4440-f986-bb9f6d94b87e"
      },
      "execution_count": null,
      "outputs": [
        {
          "output_type": "execute_result",
          "data": {
            "text/plain": [
              "    Country               Channel Name       Category  followers       Likes  \\\n",
              "0        IN                   T-Series  Gaming & Apps  220000000  1602680172   \n",
              "1        US  ABCkidTV - Nursery Rhymes  Gaming & Apps  138000000   220990134   \n",
              "2        IN                  SET India  Gaming & Apps  137000000   174875242   \n",
              "3        US                  PewDiePie  Gaming & Apps  111000000  2191405541   \n",
              "4        US                    MrBeast  Gaming & Apps   98100000  1731833460   \n",
              "..      ...                        ...            ...        ...         ...   \n",
              "652     NaN               1theK (원더케이)          Music   24100000   210214306   \n",
              "653      US                Post Malone  Gaming & Apps   24000000    16471431   \n",
              "654      IN               Amit Bhadana            NaN   24000000   113983128   \n",
              "655      US              James Charles  Gaming & Apps   24000000   182740860   \n",
              "656      US                    Netflix           None   24000000   106820094   \n",
              "\n",
              "     Boost Index  Engagement Rate         Views              Youtube Link  \n",
              "0             83                3  195660744416  UCq-Fj5jknLsUf-MWSy4_brA  \n",
              "1             63               64  133025325473  UCbCmjCuTUZos6Inko4u57UQ  \n",
              "2             79                0  121741739317  UCpEhnqL0y41EpW2TvWAHD7Q  \n",
              "3             88                6   28424113942  UC-lHJZR3Gqxm24_Vd_AJ5Yw  \n",
              "4             60               72   16242634269  UCX6OQ3DkcsbYNE6H8uQQuVA  \n",
              "..           ...              ...           ...                       ...  \n",
              "652           74                1   22431615067  UCweOkPb1wVVH0Q0Tlj4a5Pw  \n",
              "653           57              152   12252459767  UCeLHszkByNZtPKcaVXOCOQQ  \n",
              "654           60              101    2227021034  UC_vcKmg67vjMP7ciLnSxSHQ  \n",
              "655           61               40    3664440993  UCucot-Zp428OwkyRm2I7v2Q  \n",
              "656           63                3    5551273418  UCWOA1ZGywLbqmigxE4Qlvuw  \n",
              "\n",
              "[200 rows x 9 columns]"
            ],
            "text/html": [
              "\n",
              "  <div id=\"df-6572933f-c77b-4292-bcef-edc9250c9956\">\n",
              "    <div class=\"colab-df-container\">\n",
              "      <div>\n",
              "<style scoped>\n",
              "    .dataframe tbody tr th:only-of-type {\n",
              "        vertical-align: middle;\n",
              "    }\n",
              "\n",
              "    .dataframe tbody tr th {\n",
              "        vertical-align: top;\n",
              "    }\n",
              "\n",
              "    .dataframe thead th {\n",
              "        text-align: right;\n",
              "    }\n",
              "</style>\n",
              "<table border=\"1\" class=\"dataframe\">\n",
              "  <thead>\n",
              "    <tr style=\"text-align: right;\">\n",
              "      <th></th>\n",
              "      <th>Country</th>\n",
              "      <th>Channel Name</th>\n",
              "      <th>Category</th>\n",
              "      <th>followers</th>\n",
              "      <th>Likes</th>\n",
              "      <th>Boost Index</th>\n",
              "      <th>Engagement Rate</th>\n",
              "      <th>Views</th>\n",
              "      <th>Youtube Link</th>\n",
              "    </tr>\n",
              "  </thead>\n",
              "  <tbody>\n",
              "    <tr>\n",
              "      <th>0</th>\n",
              "      <td>IN</td>\n",
              "      <td>T-Series</td>\n",
              "      <td>Gaming &amp; Apps</td>\n",
              "      <td>220000000</td>\n",
              "      <td>1602680172</td>\n",
              "      <td>83</td>\n",
              "      <td>3</td>\n",
              "      <td>195660744416</td>\n",
              "      <td>UCq-Fj5jknLsUf-MWSy4_brA</td>\n",
              "    </tr>\n",
              "    <tr>\n",
              "      <th>1</th>\n",
              "      <td>US</td>\n",
              "      <td>ABCkidTV - Nursery Rhymes</td>\n",
              "      <td>Gaming &amp; Apps</td>\n",
              "      <td>138000000</td>\n",
              "      <td>220990134</td>\n",
              "      <td>63</td>\n",
              "      <td>64</td>\n",
              "      <td>133025325473</td>\n",
              "      <td>UCbCmjCuTUZos6Inko4u57UQ</td>\n",
              "    </tr>\n",
              "    <tr>\n",
              "      <th>2</th>\n",
              "      <td>IN</td>\n",
              "      <td>SET India</td>\n",
              "      <td>Gaming &amp; Apps</td>\n",
              "      <td>137000000</td>\n",
              "      <td>174875242</td>\n",
              "      <td>79</td>\n",
              "      <td>0</td>\n",
              "      <td>121741739317</td>\n",
              "      <td>UCpEhnqL0y41EpW2TvWAHD7Q</td>\n",
              "    </tr>\n",
              "    <tr>\n",
              "      <th>3</th>\n",
              "      <td>US</td>\n",
              "      <td>PewDiePie</td>\n",
              "      <td>Gaming &amp; Apps</td>\n",
              "      <td>111000000</td>\n",
              "      <td>2191405541</td>\n",
              "      <td>88</td>\n",
              "      <td>6</td>\n",
              "      <td>28424113942</td>\n",
              "      <td>UC-lHJZR3Gqxm24_Vd_AJ5Yw</td>\n",
              "    </tr>\n",
              "    <tr>\n",
              "      <th>4</th>\n",
              "      <td>US</td>\n",
              "      <td>MrBeast</td>\n",
              "      <td>Gaming &amp; Apps</td>\n",
              "      <td>98100000</td>\n",
              "      <td>1731833460</td>\n",
              "      <td>60</td>\n",
              "      <td>72</td>\n",
              "      <td>16242634269</td>\n",
              "      <td>UCX6OQ3DkcsbYNE6H8uQQuVA</td>\n",
              "    </tr>\n",
              "    <tr>\n",
              "      <th>...</th>\n",
              "      <td>...</td>\n",
              "      <td>...</td>\n",
              "      <td>...</td>\n",
              "      <td>...</td>\n",
              "      <td>...</td>\n",
              "      <td>...</td>\n",
              "      <td>...</td>\n",
              "      <td>...</td>\n",
              "      <td>...</td>\n",
              "    </tr>\n",
              "    <tr>\n",
              "      <th>652</th>\n",
              "      <td>NaN</td>\n",
              "      <td>1theK (원더케이)</td>\n",
              "      <td>Music</td>\n",
              "      <td>24100000</td>\n",
              "      <td>210214306</td>\n",
              "      <td>74</td>\n",
              "      <td>1</td>\n",
              "      <td>22431615067</td>\n",
              "      <td>UCweOkPb1wVVH0Q0Tlj4a5Pw</td>\n",
              "    </tr>\n",
              "    <tr>\n",
              "      <th>653</th>\n",
              "      <td>US</td>\n",
              "      <td>Post Malone</td>\n",
              "      <td>Gaming &amp; Apps</td>\n",
              "      <td>24000000</td>\n",
              "      <td>16471431</td>\n",
              "      <td>57</td>\n",
              "      <td>152</td>\n",
              "      <td>12252459767</td>\n",
              "      <td>UCeLHszkByNZtPKcaVXOCOQQ</td>\n",
              "    </tr>\n",
              "    <tr>\n",
              "      <th>654</th>\n",
              "      <td>IN</td>\n",
              "      <td>Amit Bhadana</td>\n",
              "      <td>NaN</td>\n",
              "      <td>24000000</td>\n",
              "      <td>113983128</td>\n",
              "      <td>60</td>\n",
              "      <td>101</td>\n",
              "      <td>2227021034</td>\n",
              "      <td>UC_vcKmg67vjMP7ciLnSxSHQ</td>\n",
              "    </tr>\n",
              "    <tr>\n",
              "      <th>655</th>\n",
              "      <td>US</td>\n",
              "      <td>James Charles</td>\n",
              "      <td>Gaming &amp; Apps</td>\n",
              "      <td>24000000</td>\n",
              "      <td>182740860</td>\n",
              "      <td>61</td>\n",
              "      <td>40</td>\n",
              "      <td>3664440993</td>\n",
              "      <td>UCucot-Zp428OwkyRm2I7v2Q</td>\n",
              "    </tr>\n",
              "    <tr>\n",
              "      <th>656</th>\n",
              "      <td>US</td>\n",
              "      <td>Netflix</td>\n",
              "      <td>None</td>\n",
              "      <td>24000000</td>\n",
              "      <td>106820094</td>\n",
              "      <td>63</td>\n",
              "      <td>3</td>\n",
              "      <td>5551273418</td>\n",
              "      <td>UCWOA1ZGywLbqmigxE4Qlvuw</td>\n",
              "    </tr>\n",
              "  </tbody>\n",
              "</table>\n",
              "<p>200 rows × 9 columns</p>\n",
              "</div>\n",
              "      <button class=\"colab-df-convert\" onclick=\"convertToInteractive('df-6572933f-c77b-4292-bcef-edc9250c9956')\"\n",
              "              title=\"Convert this dataframe to an interactive table.\"\n",
              "              style=\"display:none;\">\n",
              "        \n",
              "  <svg xmlns=\"http://www.w3.org/2000/svg\" height=\"24px\"viewBox=\"0 0 24 24\"\n",
              "       width=\"24px\">\n",
              "    <path d=\"M0 0h24v24H0V0z\" fill=\"none\"/>\n",
              "    <path d=\"M18.56 5.44l.94 2.06.94-2.06 2.06-.94-2.06-.94-.94-2.06-.94 2.06-2.06.94zm-11 1L8.5 8.5l.94-2.06 2.06-.94-2.06-.94L8.5 2.5l-.94 2.06-2.06.94zm10 10l.94 2.06.94-2.06 2.06-.94-2.06-.94-.94-2.06-.94 2.06-2.06.94z\"/><path d=\"M17.41 7.96l-1.37-1.37c-.4-.4-.92-.59-1.43-.59-.52 0-1.04.2-1.43.59L10.3 9.45l-7.72 7.72c-.78.78-.78 2.05 0 2.83L4 21.41c.39.39.9.59 1.41.59.51 0 1.02-.2 1.41-.59l7.78-7.78 2.81-2.81c.8-.78.8-2.07 0-2.86zM5.41 20L4 18.59l7.72-7.72 1.47 1.35L5.41 20z\"/>\n",
              "  </svg>\n",
              "      </button>\n",
              "      \n",
              "  <style>\n",
              "    .colab-df-container {\n",
              "      display:flex;\n",
              "      flex-wrap:wrap;\n",
              "      gap: 12px;\n",
              "    }\n",
              "\n",
              "    .colab-df-convert {\n",
              "      background-color: #E8F0FE;\n",
              "      border: none;\n",
              "      border-radius: 50%;\n",
              "      cursor: pointer;\n",
              "      display: none;\n",
              "      fill: #1967D2;\n",
              "      height: 32px;\n",
              "      padding: 0 0 0 0;\n",
              "      width: 32px;\n",
              "    }\n",
              "\n",
              "    .colab-df-convert:hover {\n",
              "      background-color: #E2EBFA;\n",
              "      box-shadow: 0px 1px 2px rgba(60, 64, 67, 0.3), 0px 1px 3px 1px rgba(60, 64, 67, 0.15);\n",
              "      fill: #174EA6;\n",
              "    }\n",
              "\n",
              "    [theme=dark] .colab-df-convert {\n",
              "      background-color: #3B4455;\n",
              "      fill: #D2E3FC;\n",
              "    }\n",
              "\n",
              "    [theme=dark] .colab-df-convert:hover {\n",
              "      background-color: #434B5C;\n",
              "      box-shadow: 0px 1px 3px 1px rgba(0, 0, 0, 0.15);\n",
              "      filter: drop-shadow(0px 1px 2px rgba(0, 0, 0, 0.3));\n",
              "      fill: #FFFFFF;\n",
              "    }\n",
              "  </style>\n",
              "\n",
              "      <script>\n",
              "        const buttonEl =\n",
              "          document.querySelector('#df-6572933f-c77b-4292-bcef-edc9250c9956 button.colab-df-convert');\n",
              "        buttonEl.style.display =\n",
              "          google.colab.kernel.accessAllowed ? 'block' : 'none';\n",
              "\n",
              "        async function convertToInteractive(key) {\n",
              "          const element = document.querySelector('#df-6572933f-c77b-4292-bcef-edc9250c9956');\n",
              "          const dataTable =\n",
              "            await google.colab.kernel.invokeFunction('convertToInteractive',\n",
              "                                                     [key], {});\n",
              "          if (!dataTable) return;\n",
              "\n",
              "          const docLinkHtml = 'Like what you see? Visit the ' +\n",
              "            '<a target=\"_blank\" href=https://colab.research.google.com/notebooks/data_table.ipynb>data table notebook</a>'\n",
              "            + ' to learn more about interactive tables.';\n",
              "          element.innerHTML = '';\n",
              "          dataTable['output_type'] = 'display_data';\n",
              "          await google.colab.output.renderOutput(dataTable, element);\n",
              "          const docLink = document.createElement('div');\n",
              "          docLink.innerHTML = docLinkHtml;\n",
              "          element.appendChild(docLink);\n",
              "        }\n",
              "      </script>\n",
              "    </div>\n",
              "  </div>\n",
              "  "
            ]
          },
          "metadata": {},
          "execution_count": 99
        }
      ]
    },
    {
      "cell_type": "markdown",
      "source": [
        "Checking the null values in all columns"
      ],
      "metadata": {
        "id": "ufnKsXhgepuA"
      }
    },
    {
      "cell_type": "code",
      "source": [
        "data.isnull().sum()"
      ],
      "metadata": {
        "colab": {
          "base_uri": "https://localhost:8080/"
        },
        "id": "HprhgvK6dMgo",
        "outputId": "4346d788-f788-4849-ef4f-2070243c8166"
      },
      "execution_count": null,
      "outputs": [
        {
          "output_type": "execute_result",
          "data": {
            "text/plain": [
              "Country            36\n",
              "Channel Name        0\n",
              "Category           36\n",
              "followers           0\n",
              "Likes               0\n",
              "Boost Index         0\n",
              "Engagement Rate     0\n",
              "Views               0\n",
              "Youtube Link        0\n",
              "dtype: int64"
            ]
          },
          "metadata": {},
          "execution_count": 100
        }
      ]
    },
    {
      "cell_type": "markdown",
      "source": [
        "Replacing the null values."
      ],
      "metadata": {
        "id": "3wyK_QPLex7X"
      }
    },
    {
      "cell_type": "code",
      "source": [
        "data['Country'] = data['Country'].replace(np.nan, 'Unknown')\n",
        "data['Category'] = data['Category'].replace(np.nan, 'None')\n",
        "data.isnull().sum()"
      ],
      "metadata": {
        "colab": {
          "base_uri": "https://localhost:8080/"
        },
        "id": "9nRbXLRFe8Qg",
        "outputId": "fab014e5-4037-43b8-e497-72692c9911c1"
      },
      "execution_count": null,
      "outputs": [
        {
          "output_type": "execute_result",
          "data": {
            "text/plain": [
              "Country            0\n",
              "Channel Name       0\n",
              "Category           0\n",
              "followers          0\n",
              "Likes              0\n",
              "Boost Index        0\n",
              "Engagement Rate    0\n",
              "Views              0\n",
              "Youtube Link       0\n",
              "dtype: int64"
            ]
          },
          "metadata": {},
          "execution_count": 101
        }
      ]
    },
    {
      "cell_type": "markdown",
      "source": [
        "Coverting as a link."
      ],
      "metadata": {
        "id": "hk693xXshtXx"
      }
    },
    {
      "cell_type": "code",
      "source": [
        "data['Youtube Link'] = 'https://www.youtube.com/channel/' + data['Youtube Link'].astype(str)\n",
        "data"
      ],
      "metadata": {
        "colab": {
          "base_uri": "https://localhost:8080/",
          "height": 424
        },
        "id": "BpXiDdvohtIg",
        "outputId": "5383af43-a1f0-45fe-f07e-ded1c5f8af50"
      },
      "execution_count": null,
      "outputs": [
        {
          "output_type": "execute_result",
          "data": {
            "text/plain": [
              "     Country               Channel Name       Category  followers       Likes  \\\n",
              "0         IN                   T-Series  Gaming & Apps  220000000  1602680172   \n",
              "1         US  ABCkidTV - Nursery Rhymes  Gaming & Apps  138000000   220990134   \n",
              "2         IN                  SET India  Gaming & Apps  137000000   174875242   \n",
              "3         US                  PewDiePie  Gaming & Apps  111000000  2191405541   \n",
              "4         US                    MrBeast  Gaming & Apps   98100000  1731833460   \n",
              "..       ...                        ...            ...        ...         ...   \n",
              "652  Unknown               1theK (원더케이)          Music   24100000   210214306   \n",
              "653       US                Post Malone  Gaming & Apps   24000000    16471431   \n",
              "654       IN               Amit Bhadana           None   24000000   113983128   \n",
              "655       US              James Charles  Gaming & Apps   24000000   182740860   \n",
              "656       US                    Netflix           None   24000000   106820094   \n",
              "\n",
              "     Boost Index  Engagement Rate         Views  \\\n",
              "0             83                3  195660744416   \n",
              "1             63               64  133025325473   \n",
              "2             79                0  121741739317   \n",
              "3             88                6   28424113942   \n",
              "4             60               72   16242634269   \n",
              "..           ...              ...           ...   \n",
              "652           74                1   22431615067   \n",
              "653           57              152   12252459767   \n",
              "654           60              101    2227021034   \n",
              "655           61               40    3664440993   \n",
              "656           63                3    5551273418   \n",
              "\n",
              "                                          Youtube Link  \n",
              "0    https://www.youtube.com/channel/UCq-Fj5jknLsUf...  \n",
              "1    https://www.youtube.com/channel/UCbCmjCuTUZos6...  \n",
              "2    https://www.youtube.com/channel/UCpEhnqL0y41Ep...  \n",
              "3    https://www.youtube.com/channel/UC-lHJZR3Gqxm2...  \n",
              "4    https://www.youtube.com/channel/UCX6OQ3DkcsbYN...  \n",
              "..                                                 ...  \n",
              "652  https://www.youtube.com/channel/UCweOkPb1wVVH0...  \n",
              "653  https://www.youtube.com/channel/UCeLHszkByNZtP...  \n",
              "654  https://www.youtube.com/channel/UC_vcKmg67vjMP...  \n",
              "655  https://www.youtube.com/channel/UCucot-Zp428Ow...  \n",
              "656  https://www.youtube.com/channel/UCWOA1ZGywLbqm...  \n",
              "\n",
              "[200 rows x 9 columns]"
            ],
            "text/html": [
              "\n",
              "  <div id=\"df-bc7b0ba4-1df5-4079-8024-15e124ff0ad6\">\n",
              "    <div class=\"colab-df-container\">\n",
              "      <div>\n",
              "<style scoped>\n",
              "    .dataframe tbody tr th:only-of-type {\n",
              "        vertical-align: middle;\n",
              "    }\n",
              "\n",
              "    .dataframe tbody tr th {\n",
              "        vertical-align: top;\n",
              "    }\n",
              "\n",
              "    .dataframe thead th {\n",
              "        text-align: right;\n",
              "    }\n",
              "</style>\n",
              "<table border=\"1\" class=\"dataframe\">\n",
              "  <thead>\n",
              "    <tr style=\"text-align: right;\">\n",
              "      <th></th>\n",
              "      <th>Country</th>\n",
              "      <th>Channel Name</th>\n",
              "      <th>Category</th>\n",
              "      <th>followers</th>\n",
              "      <th>Likes</th>\n",
              "      <th>Boost Index</th>\n",
              "      <th>Engagement Rate</th>\n",
              "      <th>Views</th>\n",
              "      <th>Youtube Link</th>\n",
              "    </tr>\n",
              "  </thead>\n",
              "  <tbody>\n",
              "    <tr>\n",
              "      <th>0</th>\n",
              "      <td>IN</td>\n",
              "      <td>T-Series</td>\n",
              "      <td>Gaming &amp; Apps</td>\n",
              "      <td>220000000</td>\n",
              "      <td>1602680172</td>\n",
              "      <td>83</td>\n",
              "      <td>3</td>\n",
              "      <td>195660744416</td>\n",
              "      <td>https://www.youtube.com/channel/UCq-Fj5jknLsUf...</td>\n",
              "    </tr>\n",
              "    <tr>\n",
              "      <th>1</th>\n",
              "      <td>US</td>\n",
              "      <td>ABCkidTV - Nursery Rhymes</td>\n",
              "      <td>Gaming &amp; Apps</td>\n",
              "      <td>138000000</td>\n",
              "      <td>220990134</td>\n",
              "      <td>63</td>\n",
              "      <td>64</td>\n",
              "      <td>133025325473</td>\n",
              "      <td>https://www.youtube.com/channel/UCbCmjCuTUZos6...</td>\n",
              "    </tr>\n",
              "    <tr>\n",
              "      <th>2</th>\n",
              "      <td>IN</td>\n",
              "      <td>SET India</td>\n",
              "      <td>Gaming &amp; Apps</td>\n",
              "      <td>137000000</td>\n",
              "      <td>174875242</td>\n",
              "      <td>79</td>\n",
              "      <td>0</td>\n",
              "      <td>121741739317</td>\n",
              "      <td>https://www.youtube.com/channel/UCpEhnqL0y41Ep...</td>\n",
              "    </tr>\n",
              "    <tr>\n",
              "      <th>3</th>\n",
              "      <td>US</td>\n",
              "      <td>PewDiePie</td>\n",
              "      <td>Gaming &amp; Apps</td>\n",
              "      <td>111000000</td>\n",
              "      <td>2191405541</td>\n",
              "      <td>88</td>\n",
              "      <td>6</td>\n",
              "      <td>28424113942</td>\n",
              "      <td>https://www.youtube.com/channel/UC-lHJZR3Gqxm2...</td>\n",
              "    </tr>\n",
              "    <tr>\n",
              "      <th>4</th>\n",
              "      <td>US</td>\n",
              "      <td>MrBeast</td>\n",
              "      <td>Gaming &amp; Apps</td>\n",
              "      <td>98100000</td>\n",
              "      <td>1731833460</td>\n",
              "      <td>60</td>\n",
              "      <td>72</td>\n",
              "      <td>16242634269</td>\n",
              "      <td>https://www.youtube.com/channel/UCX6OQ3DkcsbYN...</td>\n",
              "    </tr>\n",
              "    <tr>\n",
              "      <th>...</th>\n",
              "      <td>...</td>\n",
              "      <td>...</td>\n",
              "      <td>...</td>\n",
              "      <td>...</td>\n",
              "      <td>...</td>\n",
              "      <td>...</td>\n",
              "      <td>...</td>\n",
              "      <td>...</td>\n",
              "      <td>...</td>\n",
              "    </tr>\n",
              "    <tr>\n",
              "      <th>652</th>\n",
              "      <td>Unknown</td>\n",
              "      <td>1theK (원더케이)</td>\n",
              "      <td>Music</td>\n",
              "      <td>24100000</td>\n",
              "      <td>210214306</td>\n",
              "      <td>74</td>\n",
              "      <td>1</td>\n",
              "      <td>22431615067</td>\n",
              "      <td>https://www.youtube.com/channel/UCweOkPb1wVVH0...</td>\n",
              "    </tr>\n",
              "    <tr>\n",
              "      <th>653</th>\n",
              "      <td>US</td>\n",
              "      <td>Post Malone</td>\n",
              "      <td>Gaming &amp; Apps</td>\n",
              "      <td>24000000</td>\n",
              "      <td>16471431</td>\n",
              "      <td>57</td>\n",
              "      <td>152</td>\n",
              "      <td>12252459767</td>\n",
              "      <td>https://www.youtube.com/channel/UCeLHszkByNZtP...</td>\n",
              "    </tr>\n",
              "    <tr>\n",
              "      <th>654</th>\n",
              "      <td>IN</td>\n",
              "      <td>Amit Bhadana</td>\n",
              "      <td>None</td>\n",
              "      <td>24000000</td>\n",
              "      <td>113983128</td>\n",
              "      <td>60</td>\n",
              "      <td>101</td>\n",
              "      <td>2227021034</td>\n",
              "      <td>https://www.youtube.com/channel/UC_vcKmg67vjMP...</td>\n",
              "    </tr>\n",
              "    <tr>\n",
              "      <th>655</th>\n",
              "      <td>US</td>\n",
              "      <td>James Charles</td>\n",
              "      <td>Gaming &amp; Apps</td>\n",
              "      <td>24000000</td>\n",
              "      <td>182740860</td>\n",
              "      <td>61</td>\n",
              "      <td>40</td>\n",
              "      <td>3664440993</td>\n",
              "      <td>https://www.youtube.com/channel/UCucot-Zp428Ow...</td>\n",
              "    </tr>\n",
              "    <tr>\n",
              "      <th>656</th>\n",
              "      <td>US</td>\n",
              "      <td>Netflix</td>\n",
              "      <td>None</td>\n",
              "      <td>24000000</td>\n",
              "      <td>106820094</td>\n",
              "      <td>63</td>\n",
              "      <td>3</td>\n",
              "      <td>5551273418</td>\n",
              "      <td>https://www.youtube.com/channel/UCWOA1ZGywLbqm...</td>\n",
              "    </tr>\n",
              "  </tbody>\n",
              "</table>\n",
              "<p>200 rows × 9 columns</p>\n",
              "</div>\n",
              "      <button class=\"colab-df-convert\" onclick=\"convertToInteractive('df-bc7b0ba4-1df5-4079-8024-15e124ff0ad6')\"\n",
              "              title=\"Convert this dataframe to an interactive table.\"\n",
              "              style=\"display:none;\">\n",
              "        \n",
              "  <svg xmlns=\"http://www.w3.org/2000/svg\" height=\"24px\"viewBox=\"0 0 24 24\"\n",
              "       width=\"24px\">\n",
              "    <path d=\"M0 0h24v24H0V0z\" fill=\"none\"/>\n",
              "    <path d=\"M18.56 5.44l.94 2.06.94-2.06 2.06-.94-2.06-.94-.94-2.06-.94 2.06-2.06.94zm-11 1L8.5 8.5l.94-2.06 2.06-.94-2.06-.94L8.5 2.5l-.94 2.06-2.06.94zm10 10l.94 2.06.94-2.06 2.06-.94-2.06-.94-.94-2.06-.94 2.06-2.06.94z\"/><path d=\"M17.41 7.96l-1.37-1.37c-.4-.4-.92-.59-1.43-.59-.52 0-1.04.2-1.43.59L10.3 9.45l-7.72 7.72c-.78.78-.78 2.05 0 2.83L4 21.41c.39.39.9.59 1.41.59.51 0 1.02-.2 1.41-.59l7.78-7.78 2.81-2.81c.8-.78.8-2.07 0-2.86zM5.41 20L4 18.59l7.72-7.72 1.47 1.35L5.41 20z\"/>\n",
              "  </svg>\n",
              "      </button>\n",
              "      \n",
              "  <style>\n",
              "    .colab-df-container {\n",
              "      display:flex;\n",
              "      flex-wrap:wrap;\n",
              "      gap: 12px;\n",
              "    }\n",
              "\n",
              "    .colab-df-convert {\n",
              "      background-color: #E8F0FE;\n",
              "      border: none;\n",
              "      border-radius: 50%;\n",
              "      cursor: pointer;\n",
              "      display: none;\n",
              "      fill: #1967D2;\n",
              "      height: 32px;\n",
              "      padding: 0 0 0 0;\n",
              "      width: 32px;\n",
              "    }\n",
              "\n",
              "    .colab-df-convert:hover {\n",
              "      background-color: #E2EBFA;\n",
              "      box-shadow: 0px 1px 2px rgba(60, 64, 67, 0.3), 0px 1px 3px 1px rgba(60, 64, 67, 0.15);\n",
              "      fill: #174EA6;\n",
              "    }\n",
              "\n",
              "    [theme=dark] .colab-df-convert {\n",
              "      background-color: #3B4455;\n",
              "      fill: #D2E3FC;\n",
              "    }\n",
              "\n",
              "    [theme=dark] .colab-df-convert:hover {\n",
              "      background-color: #434B5C;\n",
              "      box-shadow: 0px 1px 3px 1px rgba(0, 0, 0, 0.15);\n",
              "      filter: drop-shadow(0px 1px 2px rgba(0, 0, 0, 0.3));\n",
              "      fill: #FFFFFF;\n",
              "    }\n",
              "  </style>\n",
              "\n",
              "      <script>\n",
              "        const buttonEl =\n",
              "          document.querySelector('#df-bc7b0ba4-1df5-4079-8024-15e124ff0ad6 button.colab-df-convert');\n",
              "        buttonEl.style.display =\n",
              "          google.colab.kernel.accessAllowed ? 'block' : 'none';\n",
              "\n",
              "        async function convertToInteractive(key) {\n",
              "          const element = document.querySelector('#df-bc7b0ba4-1df5-4079-8024-15e124ff0ad6');\n",
              "          const dataTable =\n",
              "            await google.colab.kernel.invokeFunction('convertToInteractive',\n",
              "                                                     [key], {});\n",
              "          if (!dataTable) return;\n",
              "\n",
              "          const docLinkHtml = 'Like what you see? Visit the ' +\n",
              "            '<a target=\"_blank\" href=https://colab.research.google.com/notebooks/data_table.ipynb>data table notebook</a>'\n",
              "            + ' to learn more about interactive tables.';\n",
              "          element.innerHTML = '';\n",
              "          dataTable['output_type'] = 'display_data';\n",
              "          await google.colab.output.renderOutput(dataTable, element);\n",
              "          const docLink = document.createElement('div');\n",
              "          docLink.innerHTML = docLinkHtml;\n",
              "          element.appendChild(docLink);\n",
              "        }\n",
              "      </script>\n",
              "    </div>\n",
              "  </div>\n",
              "  "
            ]
          },
          "metadata": {},
          "execution_count": 102
        }
      ]
    },
    {
      "cell_type": "markdown",
      "source": [
        "Export as a excel file"
      ],
      "metadata": {
        "id": "8npQMvTZiQLQ"
      }
    },
    {
      "cell_type": "code",
      "source": [
        "data.to_excel('final_dataset.xlsx')"
      ],
      "metadata": {
        "id": "Bn_LClg7ieKJ"
      },
      "execution_count": null,
      "outputs": []
    }
  ]
}